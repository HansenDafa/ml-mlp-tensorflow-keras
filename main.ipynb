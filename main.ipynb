{
 "cells": [
  {
   "cell_type": "code",
   "execution_count": 5,
   "metadata": {},
   "outputs": [
    {
     "name": "stderr",
     "output_type": "stream",
     "text": [
      "c:\\Users\\Hansen Dafa\\AppData\\Local\\Programs\\Python\\Python310\\lib\\site-packages\\keras\\src\\layers\\reshaping\\flatten.py:37: UserWarning: Do not pass an `input_shape`/`input_dim` argument to a layer. When using Sequential models, prefer using an `Input(shape)` object as the first layer in the model instead.\n",
      "  super().__init__(**kwargs)\n"
     ]
    },
    {
     "name": "stdout",
     "output_type": "stream",
     "text": [
      "    Hidden Layers  Neurons per Layer  Accuracy\n",
      "3               1                256    0.9795\n",
      "15              4                256    0.9790\n",
      "11              3                256    0.9787\n",
      "2               1                128    0.9786\n",
      "18              5                128    0.9770\n",
      "6               2                128    0.9762\n",
      "7               2                256    0.9759\n",
      "14              4                128    0.9751\n",
      "13              4                 64    0.9740\n",
      "10              3                128    0.9739\n",
      "19              5                256    0.9727\n",
      "9               3                 64    0.9719\n",
      "1               1                 64    0.9713\n",
      "17              5                 64    0.9708\n",
      "5               2                 64    0.9699\n",
      "8               3                 32    0.9659\n",
      "4               2                 32    0.9657\n",
      "0               1                 32    0.9646\n",
      "12              4                 32    0.9639\n",
      "16              5                 32    0.9623\n"
     ]
    }
   ],
   "source": [
    "import tensorflow as tf\n",
    "from tensorflow.keras.datasets import mnist\n",
    "from tensorflow.keras.models import Sequential\n",
    "from tensorflow.keras.layers import Dense, Flatten\n",
    "from tensorflow.keras.utils import to_categorical\n",
    "import numpy as np\n",
    "import pandas as pd\n",
    "\n",
    "# Load dataset MNIST\n",
    "(x_train, y_train), (x_test, y_test) = mnist.load_data()\n",
    "x_train = x_train / 255.0\n",
    "x_test = x_test / 255.0\n",
    "y_train = to_categorical(y_train)\n",
    "y_test = to_categorical(y_test)\n",
    "\n",
    "# Fungsi untuk membangun model MLP\n",
    "def build_mlp_model(hidden_layers, neurons_per_layer, input_shape=(28, 28), num_classes=10):\n",
    "    model = Sequential()\n",
    "    model.add(Flatten(input_shape=input_shape))\n",
    "    for _ in range(hidden_layers):\n",
    "        model.add(Dense(neurons_per_layer, activation='relu'))\n",
    "    model.add(Dense(num_classes, activation='softmax'))\n",
    "    model.compile(optimizer='adam', loss='categorical_crossentropy', metrics=['accuracy'])\n",
    "    return model\n",
    "\n",
    "# Fungsi untuk melatih model dan mendapatkan akurasi\n",
    "def train_and_evaluate(hidden_layers, neurons_per_layer, epochs=5):\n",
    "    model = build_mlp_model(hidden_layers, neurons_per_layer)\n",
    "    model.fit(x_train, y_train, epochs=epochs, batch_size=32, verbose=0, validation_data=(x_test, y_test))\n",
    "    _, accuracy = model.evaluate(x_test, y_test, verbose=0)\n",
    "    return accuracy\n",
    "\n",
    "# Eksperimen dengan berbagai konfigurasi hidden layer dan neuron\n",
    "results = []\n",
    "hidden_layers_options = [1, 2, 3, 4, 5]\n",
    "neurons_per_layer_options = [32, 64, 128, 256]\n",
    "\n",
    "for hidden_layers in hidden_layers_options:\n",
    "    for neurons_per_layer in neurons_per_layer_options:\n",
    "        accuracy = train_and_evaluate(hidden_layers, neurons_per_layer)\n",
    "        results.append((hidden_layers, neurons_per_layer, accuracy))\n",
    "\n",
    "# Membuat tabel perbandingan hasil\n",
    "results_df = pd.DataFrame(results, columns=['Hidden Layers', 'Neurons per Layer', 'Accuracy'])\n",
    "sorted_results_df = results_df.sort_values(by='Accuracy', ascending=False)\n",
    "print(sorted_results_df)\n"
   ]
  }
 ],
 "metadata": {
  "kernelspec": {
   "display_name": "Python 3",
   "language": "python",
   "name": "python3"
  },
  "language_info": {
   "codemirror_mode": {
    "name": "ipython",
    "version": 3
   },
   "file_extension": ".py",
   "mimetype": "text/x-python",
   "name": "python",
   "nbconvert_exporter": "python",
   "pygments_lexer": "ipython3",
   "version": "3.10.7"
  }
 },
 "nbformat": 4,
 "nbformat_minor": 2
}
